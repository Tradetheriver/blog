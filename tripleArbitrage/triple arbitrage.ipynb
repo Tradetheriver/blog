{
 "cells": [
  {
   "cell_type": "markdown",
   "metadata": {},
   "source": [
    "# Triple arbitrage in FX and cryptos"
   ]
  },
  {
   "cell_type": "markdown",
   "metadata": {},
   "source": [
    "This is a tutorial about how this tecnique is used , is not possible to find an edge for retail traders because of speed commissions ...etc  , so take it as something educational."
   ]
  },
  {
   "cell_type": "code",
   "execution_count": 23,
   "metadata": {
    "collapsed": false
   },
   "outputs": [],
   "source": [
    "%matplotlib inline\n",
    "import numpy as np\n",
    "import pandas as pd\n",
    "import matplotlib.pyplot as plt\n",
    "import matplotlib.style\n",
    "import time\n",
    "import io\n",
    "import requests\n",
    "import pygraphviz as pgv\n",
    "from IPython.display import Image\n",
    "\n",
    "plt.style.use('dark_background')"
   ]
  },
  {
   "cell_type": "markdown",
   "metadata": {},
   "source": [
    "Triple arbitrage is a tipically arbitrage strategy used in forex where you arbitrage between one currency instrument and other synthetic instrument made by a combination of other currency rates.\n",
    "\n",
    "for example:<br>\n",
    ">    -arbitrage between EURUSD and synthetic EURUSD(synthetic EURUSD = combination(GBPUSD,EURGBP))<br>\n",
    ">    -arbitrage between ETHEUR and synthetic ETHEUR(synthetic ETHEUR = combination(BTCEUR ,ETHBTC ))"
   ]
  },
  {
   "cell_type": "markdown",
   "metadata": {},
   "source": [
    "Before making any calculus we have to be clear the instruments representation ob currencys which one is in numerator and which one in denominator<br>\n",
    ">-EURUSD = USD/EUR<br>\n",
    ">-GBPUSD = USD/GBP<br>\n",
    ">-EURGBP = GBP/EUR<br>\n",
    "\n",
    ">-ETHEUR = EUR/ETH<br>\n",
    ">-BTCEUR = EUR/BTC<br>\n",
    ">-ETHBTC = BTC/ETH<br>\n",
    "\n",
    "If you see in this way.... you probably are starting to see what we are going to do"
   ]
  },
  {
   "cell_type": "markdown",
   "metadata": {},
   "source": [
    "# Easy mode -> Market Orders"
   ]
  },
  {
   "cell_type": "markdown",
   "metadata": {},
   "source": [
    "In the easy mode we are going to make the arbitrage using instruments as they only have one price, example\n",
    "\n",
    ">- EURUSD = 1.1835<br>\n",
    ">- GBPUSD = 1.33<br>\n",
    ">- EURGBP = 0.8917<br>"
   ]
  },
  {
   "cell_type": "code",
   "execution_count": 4,
   "metadata": {
    "collapsed": true
   },
   "outputs": [],
   "source": [
    "EURUSD = 1.1835\n",
    "GBPUSD = 1.33\n",
    "EURGBP = 0.8917\n"
   ]
  },
  {
   "cell_type": "code",
   "execution_count": 6,
   "metadata": {
    "collapsed": false
   },
   "outputs": [
    {
     "data": {
      "text/plain": [
       "1.185961"
      ]
     },
     "execution_count": 6,
     "metadata": {},
     "output_type": "execute_result"
    }
   ],
   "source": [
    "# USD/EUR = (USD/GBP) * (GBP/EUR)  \n",
    "# EURUSD = GBPUSD * EURGBP\n",
    "syntheticEURUSD = GBPUSD*EURGBP\n",
    "syntheticEURUSD"
   ]
  },
  {
   "cell_type": "code",
   "execution_count": 16,
   "metadata": {
    "collapsed": true
   },
   "outputs": [],
   "source": [
    "def printResults(syntheticEURUSD,EURUSD,commissionsPerInstrument=0):\n",
    "\t#profit = abs(syntheticEURUSD -EURUSD)\n",
    "\tprofit = abs(syntheticEURUSD-EURUSD)-commissionsPerInstrument*3\n",
    "\tif syntheticEURUSD>EURUSD:\n",
    "\t\tprint 'buy EURUSD'\n",
    "\t\tprint 'sell syntheticEURUSD => sell GBPUSD and sell EURGBP'\n",
    "\t\tprint 'profit = %.5f'%profit\n",
    "\telif syntheticEURUSD<EURUSD:\n",
    "\t\tprint 'sell EURUSD'\n",
    "\t\tprint 'buy syntheticEURUSD => buy GBPUSD and buy EURGBP'\n",
    "\t\tprint 'profit = %.5f'%profit\n",
    "\telse:\n",
    "\t\tprint 'synthetic price = instrument => no arbitrage oportunity'"
   ]
  },
  {
   "cell_type": "code",
   "execution_count": 17,
   "metadata": {
    "collapsed": false
   },
   "outputs": [
    {
     "name": "stdout",
     "output_type": "stream",
     "text": [
      "buy EURUSD\n",
      "sell syntheticEURUSD => sell GBPUSD and sell EURGBP\n",
      "profit = 0.00246\n"
     ]
    }
   ],
   "source": [
    " \n",
    "printResults(syntheticEURUSD,EURUSD)"
   ]
  },
  {
   "cell_type": "code",
   "execution_count": 18,
   "metadata": {
    "collapsed": false
   },
   "outputs": [
    {
     "name": "stdout",
     "output_type": "stream",
     "text": [
      "buy EURUSD\n",
      "sell syntheticEURUSD => sell GBPUSD and sell EURGBP\n",
      "profit = 0.00237\n"
     ]
    }
   ],
   "source": [
    "#simulate some commission + spread 3 pips per instrument\n",
    "commissionsPerInstrument = 0.00003\n",
    "printResults(syntheticEURUSD,EURUSD,commissionsPerInstrument)\n"
   ]
  },
  {
   "cell_type": "markdown",
   "metadata": {},
   "source": [
    "# Hard Mode -> Microstructure Limit Orders"
   ]
  },
  {
   "cell_type": "markdown",
   "metadata": {},
   "source": [
    "This is the real mode , where instruments have two prices bid / ask and we are going to calculate a synthetic price t put limit orders , if they are executed by market orders of other participants we are going to send market orders to hedge the risk and exit the operation.\n",
    "\n",
    "this way we can reduce on spread crossing\n"
   ]
  },
  {
   "cell_type": "code",
   "execution_count": 56,
   "metadata": {
    "collapsed": true
   },
   "outputs": [],
   "source": [
    "# ETHBTC = BTC/ETH\n",
    "# ETHEUR = EUR/ETH\n",
    "# BTCEUR = EUR/ETH\n",
    "\n",
    "bid = {'ETHBTC':0.06818,\n",
    "\t\t'ETHEUR':249.73,\n",
    "\t\t'BTCEUR': 3668.6\n",
    "\t\t}\n",
    "ask = {'ETHBTC':0.06819,\n",
    "\t\t'ETHEUR':249.78,\n",
    "\t\t'BTCEUR': 3672\n",
    "\t\t}\n",
    "\n"
   ]
  },
  {
   "cell_type": "code",
   "execution_count": 30,
   "metadata": {
    "collapsed": false
   },
   "outputs": [],
   "source": [
    "def draw(dot):\n",
    "    return Image(pgv.AGraph(dot).draw(format='png', prog='dot'))\n",
    "\n"
   ]
  },
  {
   "cell_type": "markdown",
   "metadata": {},
   "source": [
    "###  Clockwise: EUR->BTC->ETH"
   ]
  },
  {
   "cell_type": "code",
   "execution_count": 29,
   "metadata": {
    "collapsed": false
   },
   "outputs": [
    {
     "data": {
      "image/png": "[encoded data removed]",
      "text/plain": [
       "<IPython.core.display.Image object>"
      ]
     },
     "execution_count": 29,
     "metadata": {},
     "output_type": "execute_result"
    }
   ],
   "source": [
    "g1 = \"\"\"digraph top {\n",
    "   EUR -> BTC -> ETH-> EUR;\n",
    "}\"\"\"\n",
    "draw(g1)"
   ]
  },
  {
   "cell_type": "code",
   "execution_count": 85,
   "metadata": {
    "collapsed": false
   },
   "outputs": [
    {
     "name": "stdout",
     "output_type": "stream",
     "text": [
      "Price already adjusted=> no arbitrage oportunity\n"
     ]
    }
   ],
   "source": [
    "#1 buy BTC sell EUR => BTCEUR ask\n",
    "#2 buy ETH sell  BTC => ETHBTC ask\n",
    "#3 sell ETH buy EUR => ETHEUR bid\n",
    "\n",
    "ratioCW = (1./ask['BTCEUR'])*(1./ask['ETHBTC'])*(bid['ETHEUR'])\n",
    "ratioCW\n",
    "if ratioCW > 1.0:\n",
    "\tprint 'Can make profits ratio is %f'%ratioCW\n",
    "\tsyntheticBid = 1./((1./ask['BTCEUR'])*(1./ask['ETHBTC']))\n",
    "\tprint '[1]send LMT buy ETHEUR@%f [bid=%f] '%(syntheticBid,bid['ETHEUR'])\n",
    "\tprint '[2]If filled[1] send MKT sell BTCEUR(ask=%f)'%ask['BTCEUR']\n",
    "\tprint '[2]If filled[1] send MKT sell ETHBTC(ask=%f)'%ask['ETHBTC']\n",
    "else:\n",
    "\tprint 'Price already adjusted=> no arbitrage oportunity'"
   ]
  },
  {
   "cell_type": "code",
   "execution_count": 61,
   "metadata": {
    "collapsed": false
   },
   "outputs": [
    {
     "data": {
      "text/plain": [
       "250.39368"
      ]
     },
     "execution_count": 61,
     "metadata": {},
     "output_type": "execute_result"
    }
   ],
   "source": [
    "1./((1./ask['BTCEUR'])*(1./ask['ETHBTC']))"
   ]
  },
  {
   "cell_type": "markdown",
   "metadata": {},
   "source": [
    "###  Counterclockwise : EUR->ETH->BTC"
   ]
  },
  {
   "cell_type": "code",
   "execution_count": 27,
   "metadata": {
    "collapsed": false
   },
   "outputs": [
    {
     "data": {
      "image/png": "[encoded data removed]",
      "text/plain": [
       "<IPython.core.display.Image object>"
      ]
     },
     "execution_count": 27,
     "metadata": {},
     "output_type": "execute_result"
    }
   ],
   "source": [
    "g1 = \"\"\"digraph top {\n",
    "   EUR -> ETH -> BTC-> EUR;\n",
    "}\"\"\"\n",
    "draw(g1)"
   ]
  },
  {
   "cell_type": "code",
   "execution_count": 87,
   "metadata": {
    "collapsed": false
   },
   "outputs": [
    {
     "name": "stdout",
     "output_type": "stream",
     "text": [
      "Can make profits ratio is 1.001382\n",
      "[1]send LMT buy BTCEUR@3663.537694 [bid=3668.600000]\n",
      "[2]If filled[1] send MKT buy ETHEUR(ask=249.780000)\n",
      "[2]If filled[1] send MKT sell ETHBTC(bid=0.068180)\n"
     ]
    }
   ],
   "source": [
    "#1 buy ETH sell EUR => ETHEUR bid\n",
    "#2 buy BTC sell ETH => ETHBTC bid\n",
    "#3 sell BTC buy EUR => BTCEUR ask\n",
    "\n",
    "ratioCCW = (1.0/ask['ETHEUR'])*(bid['ETHBTC'])*(bid['BTCEUR'])\n",
    "if ratioCCW > 1:\n",
    "\tprint 'Can make profits ratio is %f'%ratioCCW\n",
    "\tsyntheticBid =1./((1.0/ask['ETHEUR'])*(bid['ETHBTC']))\n",
    "\tprint '[1]send LMT buy BTCEUR@%f [bid=%f]'%(syntheticBid,bid['BTCEUR'])\n",
    "\tprint '[2]If filled[1] send MKT buy ETHEUR(ask=%f)'%ask['ETHEUR']\n",
    "\tprint '[2]If filled[1] send MKT sell ETHBTC(bid=%f)'%bid['ETHBTC']\n",
    "else:\n",
    "\tprint 'Price already adjusted=> no arbitrage oportunity'"
   ]
  }
 ],
 "metadata": {
  "anaconda-cloud": {},
  "kernelspec": {
   "display_name": "Python [default]",
   "language": "python",
   "name": "python2"
  },
  "language_info": {
   "codemirror_mode": {
    "name": "ipython",
    "version": 2
   },
   "file_extension": ".py",
   "mimetype": "text/x-python",
   "name": "python",
   "nbconvert_exporter": "python",
   "pygments_lexer": "ipython2",
   "version": "2.7.12"
  }
 },
 "nbformat": 4,
 "nbformat_minor": 2
}
