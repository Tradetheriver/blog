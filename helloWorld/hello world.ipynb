{
 "cells": [
  {
   "cell_type": "markdown",
   "metadata": {},
   "source": [
    "Trying to embed this notebook in Wordpress blog following:\n",
    "https://pythonandr.com/2016/07/18/sharing-ipython-jupyter-notebooks-via-wordpress/"
   ]
  },
  {
   "cell_type": "code",
   "execution_count": 16,
   "metadata": {
    "collapsed": false
   },
   "outputs": [],
   "source": [
    "%matplotlib inline\n",
    "import numpy as np\n",
    "import pandas as pd\n",
    "import matplotlib.pyplot as plt\n",
    "import matplotlib.style\n",
    "import time\n",
    "import io\n",
    "import requests\n",
    "\n",
    "plt.style.use('dark_background')"
   ]
  },
  {
   "cell_type": "code",
   "execution_count": 17,
   "metadata": {
    "collapsed": true
   },
   "outputs": [],
   "source": [
    "#from https://chrisconlan.com/download-historical-stock-data-google-r-python/\n",
    "def google_stocks(symbol, startdate = (1, 1, 2005), enddate = None):\n",
    " \n",
    "    startdate = str(startdate[0]) + '+' + str(startdate[1]) + '+' + str(startdate[2])\n",
    " \n",
    "    if not enddate:\n",
    "        enddate = time.strftime(\"%m+%d+%Y\")\n",
    "    else:\n",
    "        enddate = str(enddate[0]) + '+' + str(enddate[1]) + '+' + str(enddate[2])\n",
    " \n",
    "    stock_url = \"http://www.google.com/finance/historical?q=\" + symbol + \\\n",
    "                \"&startdate=\" + startdate + \"&enddate=\" + enddate + \"&output=csv\"\n",
    " \n",
    "    raw_response = requests.get(stock_url).content\n",
    " \n",
    "    stock_data = pd.read_csv(io.StringIO(raw_response.decode('utf-8')))\n",
    " \n",
    "    return stock_data"
   ]
  },
  {
   "cell_type": "code",
   "execution_count": 31,
   "metadata": {
    "collapsed": false
   },
   "outputs": [
    {
     "data": {
      "text/html": [
       "<div>\n",
       "<style>\n",
       "    .dataframe thead tr:only-child th {\n",
       "        text-align: right;\n",
       "    }\n",
       "\n",
       "    .dataframe thead th {\n",
       "        text-align: left;\n",
       "    }\n",
       "\n",
       "    .dataframe tbody tr th {\n",
       "        vertical-align: top;\n",
       "    }\n",
       "</style>\n",
       "<table border=\"1\" class=\"dataframe\">\n",
       "  <thead>\n",
       "    <tr style=\"text-align: right;\">\n",
       "      <th></th>\n",
       "      <th>Date</th>\n",
       "      <th>Open</th>\n",
       "      <th>High</th>\n",
       "      <th>Low</th>\n",
       "      <th>Close</th>\n",
       "      <th>Volume</th>\n",
       "    </tr>\n",
       "  </thead>\n",
       "  <tbody>\n",
       "    <tr>\n",
       "      <th>0</th>\n",
       "      <td>11-Oct-17</td>\n",
       "      <td>155.97</td>\n",
       "      <td>156.98</td>\n",
       "      <td>155.75</td>\n",
       "      <td>156.55</td>\n",
       "      <td>16905640</td>\n",
       "    </tr>\n",
       "    <tr>\n",
       "      <th>1</th>\n",
       "      <td>10-Oct-17</td>\n",
       "      <td>156.06</td>\n",
       "      <td>158.00</td>\n",
       "      <td>155.10</td>\n",
       "      <td>155.90</td>\n",
       "      <td>15617014</td>\n",
       "    </tr>\n",
       "    <tr>\n",
       "      <th>2</th>\n",
       "      <td>9-Oct-17</td>\n",
       "      <td>155.81</td>\n",
       "      <td>156.73</td>\n",
       "      <td>155.48</td>\n",
       "      <td>155.84</td>\n",
       "      <td>16262923</td>\n",
       "    </tr>\n",
       "    <tr>\n",
       "      <th>3</th>\n",
       "      <td>6-Oct-17</td>\n",
       "      <td>154.97</td>\n",
       "      <td>155.49</td>\n",
       "      <td>154.56</td>\n",
       "      <td>155.30</td>\n",
       "      <td>17407558</td>\n",
       "    </tr>\n",
       "    <tr>\n",
       "      <th>4</th>\n",
       "      <td>5-Oct-17</td>\n",
       "      <td>154.18</td>\n",
       "      <td>155.44</td>\n",
       "      <td>154.05</td>\n",
       "      <td>155.39</td>\n",
       "      <td>21283769</td>\n",
       "    </tr>\n",
       "  </tbody>\n",
       "</table>\n",
       "</div>"
      ],
      "text/plain": [
       "        Date    Open    High     Low   Close    Volume\n",
       "0  11-Oct-17  155.97  156.98  155.75  156.55  16905640\n",
       "1  10-Oct-17  156.06  158.00  155.10  155.90  15617014\n",
       "2   9-Oct-17  155.81  156.73  155.48  155.84  16262923\n",
       "3   6-Oct-17  154.97  155.49  154.56  155.30  17407558\n",
       "4   5-Oct-17  154.18  155.44  154.05  155.39  21283769"
      ]
     },
     "execution_count": 31,
     "metadata": {},
     "output_type": "execute_result"
    }
   ],
   "source": [
    "apple_data = google_stocks('AAPL')\n",
    "apple_data.head()"
   ]
  },
  {
   "cell_type": "code",
   "execution_count": 28,
   "metadata": {
    "collapsed": false
   },
   "outputs": [
    {
     "data": {
      "text/plain": [
       "Index([u'Date', u'Open', u'High', u'Low', u'Close', u'Volume'], dtype='object')"
      ]
     },
     "execution_count": 28,
     "metadata": {},
     "output_type": "execute_result"
    }
   ],
   "source": [
    "apple_data.columns\n",
    "\n"
   ]
  },
  {
   "cell_type": "code",
   "execution_count": null,
   "metadata": {
    "collapsed": true
   },
   "outputs": [],
   "source": [
    "#Put the right index\n",
    "apple_data.set_index('Date',inplace=True)"
   ]
  },
  {
   "cell_type": "code",
   "execution_count": 34,
   "metadata": {
    "collapsed": false
   },
   "outputs": [
    {
     "data": {
      "text/plain": [
       "<matplotlib.text.Text at 0xc4ea5c0>"
      ]
     },
     "execution_count": 34,
     "metadata": {},
     "output_type": "execute_result"
    },
    {
     "data": {
      "image/png": "[encoded data removed]",
      "text/plain": [
       "<matplotlib.figure.Figure at 0xc28c4e0>"
      ]
     },
     "metadata": {},
     "output_type": "display_data"
    }
   ],
   "source": [
    "apple_data['Close'].plot()\n",
    "plt.title('AAPL')"
   ]
  }
 ],
 "metadata": {
  "anaconda-cloud": {},
  "kernelspec": {
   "display_name": "Python [default]",
   "language": "python",
   "name": "python2"
  },
  "language_info": {
   "codemirror_mode": {
    "name": "ipython",
    "version": 2
   },
   "file_extension": ".py",
   "mimetype": "text/x-python",
   "name": "python",
   "nbconvert_exporter": "python",
   "pygments_lexer": "ipython2",
   "version": "2.7.12"
  }
 },
 "nbformat": 4,
 "nbformat_minor": 2
}
